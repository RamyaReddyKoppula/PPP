{
 "cells": [
  {
   "cell_type": "code",
   "execution_count": 48,
   "metadata": {},
   "outputs": [],
   "source": [
    "# importing required packages\n",
    "\n",
    "%matplotlib inline\n",
    "\n",
    "import warnings\n",
    "warnings.filterwarnings('ignore')\n",
    "\n",
    "import IPython\n",
    "import csv\n",
    "import pandas as pd\n",
    "\n",
    "import matplotlib #scientific plots\n",
    "import matplotlib.pyplot as plt\n",
    "\n",
    "import numpy as np # numerical programming\n",
    "\n",
    "import sklearn #scikit-learn\n",
    "import math #Mathematical functions\n",
    "import pylab \n",
    "import time\n",
    "import pprint as pp\n",
    "from mpl_toolkits.mplot3d import Axes3D\n",
    "from matplotlib.ticker import NullFormatter #No labels on the ticks.\n",
    "from IPython.display import Image\n",
    "from __future__ import division"
   ]
  },
  {
   "cell_type": "markdown",
   "metadata": {},
   "source": [
    "Now we will import the data. Here I am using pandas to import data and I will aslo display some data."
   ]
  },
  {
   "cell_type": "code",
   "execution_count": 49,
   "metadata": {},
   "outputs": [
    {
     "data": {
      "text/html": [
       "<div>\n",
       "<style scoped>\n",
       "    .dataframe tbody tr th:only-of-type {\n",
       "        vertical-align: middle;\n",
       "    }\n",
       "\n",
       "    .dataframe tbody tr th {\n",
       "        vertical-align: top;\n",
       "    }\n",
       "\n",
       "    .dataframe thead th {\n",
       "        text-align: right;\n",
       "    }\n",
       "</style>\n",
       "<table border=\"1\" class=\"dataframe\">\n",
       "  <thead>\n",
       "    <tr style=\"text-align: right;\">\n",
       "      <th></th>\n",
       "      <th>C</th>\n",
       "      <th>N</th>\n",
       "      <th>P</th>\n",
       "      <th>S</th>\n",
       "      <th>V</th>\n",
       "      <th>Ni</th>\n",
       "      <th>Nb</th>\n",
       "      <th>Al</th>\n",
       "      <th>Ti</th>\n",
       "      <th>Fe</th>\n",
       "      <th>Hf</th>\n",
       "      <th>Mo</th>\n",
       "      <th>Mn</th>\n",
       "      <th>Co</th>\n",
       "      <th>Si</th>\n",
       "      <th>Cr</th>\n",
       "      <th>Cu</th>\n",
       "      <th>DOI</th>\n",
       "      <th>url</th>\n",
       "      <th>SFE</th>\n",
       "      <th>Error</th>\n",
       "      <th>title</th>\n",
       "      <th>Author</th>\n",
       "      <th>temperature</th>\n",
       "      <th>experiment_type</th>\n",
       "    </tr>\n",
       "  </thead>\n",
       "  <tbody>\n",
       "    <tr>\n",
       "      <th>0</th>\n",
       "      <td>0.004</td>\n",
       "      <td>0.003</td>\n",
       "      <td>0.025</td>\n",
       "      <td>0.001</td>\n",
       "      <td>0.0</td>\n",
       "      <td>15.6</td>\n",
       "      <td>0.0</td>\n",
       "      <td>0.0</td>\n",
       "      <td>0.0</td>\n",
       "      <td>64.317</td>\n",
       "      <td>0.0</td>\n",
       "      <td>2.5</td>\n",
       "      <td>0.03</td>\n",
       "      <td>0.0</td>\n",
       "      <td>0.02</td>\n",
       "      <td>17.5</td>\n",
       "      <td>0.0</td>\n",
       "      <td>10.1007/s11661-013-1943-0</td>\n",
       "      <td>http://link.springer.com/article/10.1007/s1166...</td>\n",
       "      <td>51.6</td>\n",
       "      <td>0.014341</td>\n",
       "      <td>The Effect of Chemical Composition and Heat Tr...</td>\n",
       "      <td>Yonezawa, Toshio</td>\n",
       "      <td>300</td>\n",
       "      <td>TEM - WBDF</td>\n",
       "    </tr>\n",
       "    <tr>\n",
       "      <th>1</th>\n",
       "      <td>0.020</td>\n",
       "      <td>0.009</td>\n",
       "      <td>0.022</td>\n",
       "      <td>0.001</td>\n",
       "      <td>0.0</td>\n",
       "      <td>15.6</td>\n",
       "      <td>0.0</td>\n",
       "      <td>0.0</td>\n",
       "      <td>0.0</td>\n",
       "      <td>64.188</td>\n",
       "      <td>0.0</td>\n",
       "      <td>2.5</td>\n",
       "      <td>0.03</td>\n",
       "      <td>0.0</td>\n",
       "      <td>0.03</td>\n",
       "      <td>17.6</td>\n",
       "      <td>0.0</td>\n",
       "      <td>10.1007/s11661-013-1943-0</td>\n",
       "      <td>http://link.springer.com/article/10.1007/s1166...</td>\n",
       "      <td>54.6</td>\n",
       "      <td>0.023810</td>\n",
       "      <td>The Effect of Chemical Composition and Heat Tr...</td>\n",
       "      <td>Yonezawa, Toshio</td>\n",
       "      <td>300</td>\n",
       "      <td>TEM - WBDF</td>\n",
       "    </tr>\n",
       "  </tbody>\n",
       "</table>\n",
       "</div>"
      ],
      "text/plain": [
       "       C      N      P      S    V    Ni   Nb   Al   Ti      Fe   Hf   Mo  \\\n",
       "0  0.004  0.003  0.025  0.001  0.0  15.6  0.0  0.0  0.0  64.317  0.0  2.5   \n",
       "1  0.020  0.009  0.022  0.001  0.0  15.6  0.0  0.0  0.0  64.188  0.0  2.5   \n",
       "\n",
       "     Mn   Co    Si    Cr   Cu                        DOI  \\\n",
       "0  0.03  0.0  0.02  17.5  0.0  10.1007/s11661-013-1943-0   \n",
       "1  0.03  0.0  0.03  17.6  0.0  10.1007/s11661-013-1943-0   \n",
       "\n",
       "                                                 url   SFE     Error  \\\n",
       "0  http://link.springer.com/article/10.1007/s1166...  51.6  0.014341   \n",
       "1  http://link.springer.com/article/10.1007/s1166...  54.6  0.023810   \n",
       "\n",
       "                                               title            Author  \\\n",
       "0  The Effect of Chemical Composition and Heat Tr...  Yonezawa, Toshio   \n",
       "1  The Effect of Chemical Composition and Heat Tr...  Yonezawa, Toshio   \n",
       "\n",
       "   temperature experiment_type  \n",
       "0          300      TEM - WBDF  \n",
       "1          300      TEM - WBDF  "
      ]
     },
     "execution_count": 49,
     "metadata": {},
     "output_type": "execute_result"
    }
   ],
   "source": [
    "#number of rows and columns to display\n",
    "#pd.options.display.max_rows = 400\n",
    "#pd.options.display.max_columns = 30\n",
    "#reading data from csv file using pandas\n",
    "collected_data = pd.read_csv('SFE Data.csv', delimiter =',',index_col = None, header = 0)\n",
    "#collected_data.shape #to check the size of data\n",
    "collected_data.head(2)\n",
    "\n"
   ]
  },
  {
   "cell_type": "markdown",
   "metadata": {},
   "source": [
    "We are pre-processing the collected data."
   ]
  },
  {
   "cell_type": "code",
   "execution_count": 50,
   "metadata": {},
   "outputs": [
    {
     "data": {
      "text/plain": [
       "426"
      ]
     },
     "execution_count": 50,
     "metadata": {},
     "output_type": "execute_result"
    }
   ],
   "source": [
    "#First we are reducing the collected data by considering the data which is done at room temperature \n",
    "#certain column selection name[\"1\"] if twoname[[\"1\",\"\"]]\n",
    "data_red1 = collected_data[(collected_data[\"temperature\"]>290) & (collected_data[\"temperature\"]<310)]\n",
    "#data_roomtemp.shape\n",
    "len(data_red1)"
   ]
  },
  {
   "cell_type": "markdown",
   "metadata": {},
   "source": [
    "Now from room temperature data we will subset the data by considering experimental measurements "
   ]
  },
  {
   "cell_type": "code",
   "execution_count": 51,
   "metadata": {},
   "outputs": [
    {
     "data": {
      "text/plain": [
       "array(['TEM - WBDF', 'XRD', 'TEM', 'Thermodynamic Modeling',\n",
       "       'Synchrotron XRD', 'TEM-WBDF', 'Neutron Diffraction',\n",
       "       'Literature Review', 'Literature review'], dtype=object)"
      ]
     },
     "execution_count": 51,
     "metadata": {},
     "output_type": "execute_result"
    }
   ],
   "source": [
    "data_red1[\"experiment_type\"].unique()"
   ]
  },
  {
   "cell_type": "code",
   "execution_count": 52,
   "metadata": {},
   "outputs": [
    {
     "data": {
      "text/plain": [
       "387"
      ]
     },
     "execution_count": 52,
     "metadata": {},
     "output_type": "execute_result"
    }
   ],
   "source": [
    "data_red2=data_red1[(data_red1[\"experiment_type\"]!=\"Thermodynamic Modeling\")]\n",
    "len(data_red2)"
   ]
  },
  {
   "cell_type": "code",
   "execution_count": 53,
   "metadata": {},
   "outputs": [
    {
     "data": {
      "text/plain": [
       "array(['C', 'N', 'P', 'S', 'V', 'Ni', 'Nb', 'Al', 'Ti', 'Fe', 'Hf', 'Mo',\n",
       "       'Mn', 'Co', 'Si', 'Cr', 'Cu', 'SFE', 'Error', 'title', 'Author',\n",
       "       'temperature', 'experiment_type'], dtype=object)"
      ]
     },
     "execution_count": 53,
     "metadata": {},
     "output_type": "execute_result"
    }
   ],
   "source": [
    "#dropping columns DOI and URL\n",
    "data_red2 = data_red2.drop(['DOI', 'url'], axis=1)\n",
    "data_red2.columns.values #display of column headers "
   ]
  },
  {
   "cell_type": "code",
   "execution_count": null,
   "metadata": {},
   "outputs": [],
   "source": []
  }
 ],
 "metadata": {
  "interpreter": {
   "hash": "31f2aee4e71d21fbe5cf8b01ff0e069b9275f58929596ceb00d14d90e3e16cd6"
  },
  "kernelspec": {
   "display_name": "Python 3.8.5 64-bit",
   "language": "python",
   "name": "python3"
  },
  "language_info": {
   "codemirror_mode": {
    "name": "ipython",
    "version": 3
   },
   "file_extension": ".py",
   "mimetype": "text/x-python",
   "name": "python",
   "nbconvert_exporter": "python",
   "pygments_lexer": "ipython3",
   "version": "3.8.5"
  },
  "orig_nbformat": 4
 },
 "nbformat": 4,
 "nbformat_minor": 2
}
